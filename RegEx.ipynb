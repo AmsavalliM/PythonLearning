{
 "cells": [
  {
   "cell_type": "markdown",
   "id": "4275d953",
   "metadata": {},
   "source": [
    "## Regex Function \n",
    "\n",
    "Python has module name re to work with RegEx"
   ]
  },
  {
   "cell_type": "code",
   "execution_count": 27,
   "id": "426e9c92",
   "metadata": {},
   "outputs": [],
   "source": [
    "import re"
   ]
  },
  {
   "cell_type": "code",
   "execution_count": 3,
   "id": "9679a18c",
   "metadata": {},
   "outputs": [],
   "source": [
    "sentence='''A RegEx, or Regular Expression, is a series of identy that forms a search pattern.\n",
    "RegEx can be used to check if a string contains the specified search pattern.'''"
   ]
  },
  {
   "cell_type": "code",
   "execution_count": 4,
   "id": "c74adb6c",
   "metadata": {},
   "outputs": [
    {
     "data": {
      "text/plain": [
       "['RegEx', 'RegEx']"
      ]
     },
     "execution_count": 4,
     "metadata": {},
     "output_type": "execute_result"
    }
   ],
   "source": [
    "## Find Matching Word.In this sentence we can find RegEx two times.\n",
    "re.findall('RegEx',sentence)"
   ]
  },
  {
   "cell_type": "code",
   "execution_count": 5,
   "id": "d69c5d67",
   "metadata": {},
   "outputs": [
    {
     "data": {
      "text/plain": [
       "12"
      ]
     },
     "execution_count": 5,
     "metadata": {},
     "output_type": "execute_result"
    }
   ],
   "source": [
    "## Search a position\n",
    "position=re.search('Regular',sentence)\n",
    "position.start()"
   ]
  },
  {
   "cell_type": "code",
   "execution_count": 6,
   "id": "e1d461d2",
   "metadata": {},
   "outputs": [
    {
     "data": {
      "text/plain": [
       "19"
      ]
     },
     "execution_count": 6,
     "metadata": {},
     "output_type": "execute_result"
    }
   ],
   "source": [
    "position.end()"
   ]
  },
  {
   "cell_type": "code",
   "execution_count": 8,
   "id": "a5a42f2d",
   "metadata": {},
   "outputs": [
    {
     "data": {
      "text/plain": [
       "['',\n",
       " 'A',\n",
       " ' ',\n",
       " 'R',\n",
       " 'e',\n",
       " 'g',\n",
       " 'E',\n",
       " 'x',\n",
       " ',',\n",
       " ' ',\n",
       " 'o',\n",
       " 'r',\n",
       " ' ',\n",
       " 'R',\n",
       " 'e',\n",
       " 'g',\n",
       " 'u',\n",
       " 'l',\n",
       " 'a',\n",
       " 'r',\n",
       " ' ',\n",
       " 'E',\n",
       " 'x',\n",
       " 'p',\n",
       " 'r',\n",
       " 'e',\n",
       " 's',\n",
       " 's',\n",
       " 'i',\n",
       " 'o',\n",
       " 'n',\n",
       " ',',\n",
       " ' ',\n",
       " 'i',\n",
       " 's',\n",
       " ' ',\n",
       " 'a',\n",
       " ' ',\n",
       " 's',\n",
       " 'e',\n",
       " 'r',\n",
       " 'i',\n",
       " 'e',\n",
       " 's',\n",
       " ' ',\n",
       " 'o',\n",
       " 'f',\n",
       " ' ',\n",
       " 'i',\n",
       " 'd',\n",
       " 'e',\n",
       " 'n',\n",
       " 't',\n",
       " 'y',\n",
       " ' ',\n",
       " 't',\n",
       " 'h',\n",
       " 'a',\n",
       " 't',\n",
       " ' ',\n",
       " 'f',\n",
       " 'o',\n",
       " 'r',\n",
       " 'm',\n",
       " 's',\n",
       " ' ',\n",
       " 'a',\n",
       " ' ',\n",
       " 's',\n",
       " 'e',\n",
       " 'a',\n",
       " 'r',\n",
       " 'c',\n",
       " 'h',\n",
       " ' ',\n",
       " 'p',\n",
       " 'a',\n",
       " 't',\n",
       " 't',\n",
       " 'e',\n",
       " 'r',\n",
       " 'n',\n",
       " '.',\n",
       " '\\n',\n",
       " 'R',\n",
       " 'e',\n",
       " 'g',\n",
       " 'E',\n",
       " 'x',\n",
       " ' ',\n",
       " 'c',\n",
       " 'a',\n",
       " 'n',\n",
       " ' ',\n",
       " 'b',\n",
       " 'e',\n",
       " ' ',\n",
       " 'u',\n",
       " 's',\n",
       " 'e',\n",
       " 'd',\n",
       " ' ',\n",
       " 't',\n",
       " 'o',\n",
       " ' ',\n",
       " 'c',\n",
       " 'h',\n",
       " 'e',\n",
       " 'c',\n",
       " 'k',\n",
       " ' ',\n",
       " 'i',\n",
       " 'f',\n",
       " ' ',\n",
       " 'a',\n",
       " ' ',\n",
       " 's',\n",
       " 't',\n",
       " 'r',\n",
       " 'i',\n",
       " 'n',\n",
       " 'g',\n",
       " ' ',\n",
       " 'c',\n",
       " 'o',\n",
       " 'n',\n",
       " 't',\n",
       " 'a',\n",
       " 'i',\n",
       " 'n',\n",
       " 's',\n",
       " ' ',\n",
       " 't',\n",
       " 'h',\n",
       " 'e',\n",
       " ' ',\n",
       " 's',\n",
       " 'p',\n",
       " 'e',\n",
       " 'c',\n",
       " 'i',\n",
       " 'f',\n",
       " 'i',\n",
       " 'e',\n",
       " 'd',\n",
       " ' ',\n",
       " 's',\n",
       " 'e',\n",
       " 'a',\n",
       " 'r',\n",
       " 'c',\n",
       " 'h',\n",
       " ' ',\n",
       " 'p',\n",
       " 'a',\n",
       " 't',\n",
       " 't',\n",
       " 'e',\n",
       " 'r',\n",
       " 'n',\n",
       " '.',\n",
       " '']"
      ]
     },
     "execution_count": 8,
     "metadata": {},
     "output_type": "execute_result"
    }
   ],
   "source": [
    "## Split words\n",
    "split=re.split('',sentence)\n",
    "split"
   ]
  },
  {
   "cell_type": "code",
   "execution_count": 10,
   "id": "058c9a50",
   "metadata": {},
   "outputs": [
    {
     "data": {
      "text/plain": [
       "['A RegEx, or Regular Expression, is a series of identy that forms a search pattern.\\nRegEx can be used to check if a string contains the specified search pattern.']"
      ]
     },
     "execution_count": 10,
     "metadata": {},
     "output_type": "execute_result"
    }
   ],
   "source": [
    "split2=re.split(':',sentence)\n",
    "split2"
   ]
  },
  {
   "cell_type": "code",
   "execution_count": 11,
   "id": "e8e7c3ff",
   "metadata": {},
   "outputs": [
    {
     "data": {
      "text/plain": [
       "'A RegEx, or Regular Expression, is a series of identy that forms a search pattern.\\nRegEx can be used to find if a string contains the specified search pattern.'"
      ]
     },
     "execution_count": 11,
     "metadata": {},
     "output_type": "execute_result"
    }
   ],
   "source": [
    "## Substitute\n",
    "x=re.sub('check','find',sentence)\n",
    "x"
   ]
  },
  {
   "cell_type": "code",
   "execution_count": 16,
   "id": "500cc6ca",
   "metadata": {},
   "outputs": [
    {
     "data": {
      "text/plain": [
       "['9', '8', '7', '6', '5', '4', '3', '7', '8', '9']"
      ]
     },
     "execution_count": 16,
     "metadata": {},
     "output_type": "execute_result"
    }
   ],
   "source": [
    "##Metacharacters\n",
    "characters='Hai I am Robot,Contact me at : 9876543789'\n",
    "re.findall('[0-9]',characters)"
   ]
  },
  {
   "cell_type": "code",
   "execution_count": 17,
   "id": "72e46ffa",
   "metadata": {},
   "outputs": [
    {
     "data": {
      "text/plain": [
       "['Robot']"
      ]
     },
     "execution_count": 17,
     "metadata": {},
     "output_type": "execute_result"
    }
   ],
   "source": [
    "## Wildcard or any character\n",
    "re.findall('R..ot',characters)"
   ]
  },
  {
   "cell_type": "code",
   "execution_count": 18,
   "id": "13f7775c",
   "metadata": {},
   "outputs": [
    {
     "data": {
      "text/plain": [
       "[]"
      ]
     },
     "execution_count": 18,
     "metadata": {},
     "output_type": "execute_result"
    }
   ],
   "source": [
    "re.findall('R.t',characters)"
   ]
  },
  {
   "cell_type": "code",
   "execution_count": 34,
   "id": "8807c3f3",
   "metadata": {},
   "outputs": [
    {
     "data": {
      "text/plain": [
       "['Hai']"
      ]
     },
     "execution_count": 34,
     "metadata": {},
     "output_type": "execute_result"
    }
   ],
   "source": [
    "##Start with ^\n",
    "characters='Hai I am Robot,Contact me at : 9876543789'\n",
    "re.findall('^Hai',characters)"
   ]
  },
  {
   "cell_type": "code",
   "execution_count": 30,
   "id": "c42d9a59",
   "metadata": {},
   "outputs": [
    {
     "data": {
      "text/plain": [
       "['789']"
      ]
     },
     "execution_count": 30,
     "metadata": {},
     "output_type": "execute_result"
    }
   ],
   "source": [
    "## End with $\n",
    "re.findall('789$',characters)"
   ]
  },
  {
   "cell_type": "code",
   "execution_count": 35,
   "id": "8f63c7da",
   "metadata": {},
   "outputs": [
    {
     "data": {
      "text/plain": [
       "['Robot,Contact me at']"
      ]
     },
     "execution_count": 35,
     "metadata": {},
     "output_type": "execute_result"
    }
   ],
   "source": [
    "### Zero or More occurance *\n",
    "re.findall('R.*t',characters)"
   ]
  },
  {
   "cell_type": "code",
   "execution_count": 39,
   "id": "4181e23e",
   "metadata": {},
   "outputs": [
    {
     "data": {
      "text/plain": [
       "['Hai']"
      ]
     },
     "execution_count": 39,
     "metadata": {},
     "output_type": "execute_result"
    }
   ],
   "source": [
    "##One or more occurance +\n",
    "re.findall('H.+i',characters)"
   ]
  },
  {
   "cell_type": "code",
   "execution_count": 40,
   "id": "f92ba18f",
   "metadata": {},
   "outputs": [
    {
     "data": {
      "text/plain": [
       "['Ha']"
      ]
     },
     "execution_count": 40,
     "metadata": {},
     "output_type": "execute_result"
    }
   ],
   "source": [
    "### Zero or one occurance ?\n",
    "##Zero occurance\n",
    "re.findall('H.?a',characters)"
   ]
  },
  {
   "cell_type": "code",
   "execution_count": 41,
   "id": "0dacae47",
   "metadata": {},
   "outputs": [
    {
     "data": {
      "text/plain": [
       "['Hai']"
      ]
     },
     "execution_count": 41,
     "metadata": {},
     "output_type": "execute_result"
    }
   ],
   "source": [
    "##one occurance\n",
    "re.findall('H.?i',characters)"
   ]
  },
  {
   "cell_type": "code",
   "execution_count": 44,
   "id": "0242c618",
   "metadata": {},
   "outputs": [
    {
     "data": {
      "text/plain": [
       "['Robot']"
      ]
     },
     "execution_count": 44,
     "metadata": {},
     "output_type": "execute_result"
    }
   ],
   "source": [
    "## Specified number of occurance {}\n",
    "characters='Hai I am Robot,Contact me at : 9876543789'\n",
    "re.findall('R.{3}t',characters)\n"
   ]
  },
  {
   "cell_type": "code",
   "execution_count": 45,
   "id": "2b0c2aad",
   "metadata": {},
   "outputs": [
    {
     "data": {
      "text/plain": [
       "['Hai']"
      ]
     },
     "execution_count": 45,
     "metadata": {},
     "output_type": "execute_result"
    }
   ],
   "source": [
    "## Either | or\n",
    "re.findall('Hai|hai',characters)"
   ]
  },
  {
   "cell_type": "code",
   "execution_count": 51,
   "id": "04d06c76",
   "metadata": {},
   "outputs": [
    {
     "data": {
      "text/plain": [
       "['t', 't', 't']"
      ]
     },
     "execution_count": 51,
     "metadata": {},
     "output_type": "execute_result"
    }
   ],
   "source": [
    "### Character set\n",
    "y='East or west Home is best'\n",
    "## check single character\n",
    "re.findall('[t]',y)"
   ]
  },
  {
   "cell_type": "code",
   "execution_count": 52,
   "id": "cc7cd46d",
   "metadata": {},
   "outputs": [
    {
     "data": {
      "text/plain": [
       "['East']"
      ]
     },
     "execution_count": 52,
     "metadata": {},
     "output_type": "execute_result"
    }
   ],
   "source": [
    "## Check combination of char set\n",
    "re.findall('[E]ast',y)\n",
    "        "
   ]
  },
  {
   "cell_type": "code",
   "execution_count": 56,
   "id": "4b28d09a",
   "metadata": {},
   "outputs": [
    {
     "data": {
      "text/plain": [
       "['west', 'best']"
      ]
     },
     "execution_count": 56,
     "metadata": {},
     "output_type": "execute_result"
    }
   ],
   "source": [
    "## Char set may be multiple chars\n",
    "re.findall('[wb]est',y)"
   ]
  },
  {
   "cell_type": "code",
   "execution_count": 57,
   "id": "12600b1a",
   "metadata": {},
   "outputs": [
    {
     "data": {
      "text/plain": [
       "['East', 'west', 'best']"
      ]
     },
     "execution_count": 57,
     "metadata": {},
     "output_type": "execute_result"
    }
   ],
   "source": [
    "## Range of char can be used\n",
    "re.findall('[A-Za-z].st',y)"
   ]
  },
  {
   "cell_type": "code",
   "execution_count": null,
   "id": "bb9a3587",
   "metadata": {},
   "outputs": [],
   "source": []
  }
 ],
 "metadata": {
  "kernelspec": {
   "display_name": "Python 3 (ipykernel)",
   "language": "python",
   "name": "python3"
  },
  "language_info": {
   "codemirror_mode": {
    "name": "ipython",
    "version": 3
   },
   "file_extension": ".py",
   "mimetype": "text/x-python",
   "name": "python",
   "nbconvert_exporter": "python",
   "pygments_lexer": "ipython3",
   "version": "3.9.7"
  }
 },
 "nbformat": 4,
 "nbformat_minor": 5
}
