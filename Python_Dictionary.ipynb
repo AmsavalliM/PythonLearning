{
 "cells": [
  {
   "cell_type": "markdown",
   "id": "1dc61305",
   "metadata": {},
   "source": [
    "###Dictionary is one of the python's implementation of data structure that is commanly called associative array.\n",
    "It's a collection of items.Each item of dictionary has a key :value pair.\n",
    "In dictionary we can retrieve values through key.{}curly braces separated by commas are used to create dictionary.\n",
    "It's expressed in Key:Value pair.Values can be of any data types,\n",
    "Keys must be of fixed type(string,number or tuple with fixed elements)and must be unique.'''"
   ]
  },
  {
   "cell_type": "code",
   "execution_count": 2,
   "id": "dbaf0b6f",
   "metadata": {},
   "outputs": [],
   "source": [
    "## Creating Python Dictionary\n",
    "fruits={} #creating empty dictionary\n"
   ]
  },
  {
   "cell_type": "code",
   "execution_count": 6,
   "id": "8978e80a",
   "metadata": {},
   "outputs": [],
   "source": [
    "##Dictionary with mixed keys\n",
    "fruits={\n",
    "    1:'Apple',\n",
    "    \"colour\":'Red',\n",
    "    \"Taste\":\"Sweet\"\n",
    "}\n"
   ]
  },
  {
   "cell_type": "code",
   "execution_count": 7,
   "id": "45ff96ca",
   "metadata": {},
   "outputs": [
    {
     "data": {
      "text/plain": [
       "{1: 'Apple', 'colour': 'Red', 'Taste': 'Sweet'}"
      ]
     },
     "execution_count": 7,
     "metadata": {},
     "output_type": "execute_result"
    }
   ],
   "source": [
    "fruits"
   ]
  },
  {
   "cell_type": "code",
   "execution_count": 13,
   "id": "f17deafd",
   "metadata": {},
   "outputs": [
    {
     "data": {
      "text/plain": [
       "'Red'"
      ]
     },
     "execution_count": 13,
     "metadata": {},
     "output_type": "execute_result"
    }
   ],
   "source": [
    "##Access the value using key with help of [] or get\n",
    "fruits={\n",
    "    1:'Apple',\n",
    "    \"colour\":'Red',\n",
    "    \"Taste\":\"Sweet\"\n",
    "}\n",
    "fruits['colour']\n"
   ]
  },
  {
   "cell_type": "code",
   "execution_count": 14,
   "id": "7766a74d",
   "metadata": {},
   "outputs": [
    {
     "data": {
      "text/plain": [
       "'Apple'"
      ]
     },
     "execution_count": 14,
     "metadata": {},
     "output_type": "execute_result"
    }
   ],
   "source": [
    "fruits.get(1)"
   ]
  },
  {
   "cell_type": "code",
   "execution_count": 15,
   "id": "2dca1d64",
   "metadata": {},
   "outputs": [
    {
     "data": {
      "text/plain": [
       "'Sweet'"
      ]
     },
     "execution_count": 15,
     "metadata": {},
     "output_type": "execute_result"
    }
   ],
   "source": [
    "fruits[\"Taste\"]"
   ]
  },
  {
   "cell_type": "code",
   "execution_count": 17,
   "id": "52eb2cb8",
   "metadata": {},
   "outputs": [
    {
     "data": {
      "text/plain": [
       "{1: 'Apple',\n",
       " 'colour': 'Green',\n",
       " 'Taste': 'Sweet',\n",
       " 'vitamin': 'Green Apple are rich in Vitamin C'}"
      ]
     },
     "execution_count": 17,
     "metadata": {},
     "output_type": "execute_result"
    }
   ],
   "source": [
    "## Changing and adding Dictionary Elements\n",
    "fruits={1:'Apple',\"colour\":'Red',\"Taste\":\"Sweet\"}\n",
    "fruits[\"colour\"]=\"Green\" #update Value\n",
    "fruits[\"vitamin\"]=\"Green Apple are rich in Vitamin C\" #Adding item\n",
    "fruits"
   ]
  },
  {
   "cell_type": "code",
   "execution_count": 5,
   "id": "5d758a44",
   "metadata": {},
   "outputs": [],
   "source": [
    "# Students total marklist\n",
    "Students=[]\n",
    "\n",
    "\n"
   ]
  },
  {
   "cell_type": "code",
   "execution_count": 14,
   "id": "f7f0a50e",
   "metadata": {},
   "outputs": [
    {
     "name": "stdout",
     "output_type": "stream",
     "text": [
      "Enter your id:103\n",
      "Enter your Name: Muthu\n",
      "Enter your Total Marks499\n"
     ]
    }
   ],
   "source": [
    "StudentID = input(\"Enter your id:\")\n",
    "StudentName = input('Enter your Name: ')\n",
    "TotalMarks=input(\"Enter your Total Marks\")\n",
    "Student={'StudentID':StudentID,\n",
    "         'StudentName':StudentName,\n",
    "         'TotalMarks':TotalMarks\n",
    "    }"
   ]
  },
  {
   "cell_type": "code",
   "execution_count": 15,
   "id": "9adf6606",
   "metadata": {},
   "outputs": [],
   "source": [
    "Students.append(Student) ## Appending Student dictionary to the Students list"
   ]
  },
  {
   "cell_type": "code",
   "execution_count": 16,
   "id": "a58614a3",
   "metadata": {},
   "outputs": [
    {
     "data": {
      "text/plain": [
       "[{'StudentID': '100', 'StudentName': 'Ama', 'TotalMarks': '460'},\n",
       " {'StudentID': '101', 'StudentName': 'Parry', 'TotalMarks': '498'},\n",
       " {'StudentID': '103', 'StudentName': 'Muthu', 'TotalMarks': '499'}]"
      ]
     },
     "execution_count": 16,
     "metadata": {},
     "output_type": "execute_result"
    }
   ],
   "source": [
    "Students"
   ]
  },
  {
   "cell_type": "code",
   "execution_count": 19,
   "id": "47aec8d4",
   "metadata": {},
   "outputs": [
    {
     "name": "stdout",
     "output_type": "stream",
     "text": [
      "{0: 0, 1: 2, 2: 4, 3: 6, 4: 8}\n"
     ]
    }
   ],
   "source": [
    "## Dictionary Comprehension\n",
    "Addition={X:X+X for X in range(5)}\n",
    "print(Addition)"
   ]
  },
  {
   "cell_type": "code",
   "execution_count": 21,
   "id": "b98db23a",
   "metadata": {},
   "outputs": [
    {
     "name": "stdout",
     "output_type": "stream",
     "text": [
      "0\n",
      "2\n",
      "4\n",
      "6\n",
      "8\n"
     ]
    }
   ],
   "source": [
    "## Iterating through Dictionary\n",
    "Addition\n",
    "for i in Addition:\n",
    "    print(Addition[i])"
   ]
  },
  {
   "cell_type": "code",
   "execution_count": 29,
   "id": "4d94e5ae",
   "metadata": {},
   "outputs": [
    {
     "data": {
      "text/plain": [
       "{1: 'Apple', 2: 'Mango', 3: 'Orange', 4: 'Grapes', 5: 'Banana'}"
      ]
     },
     "execution_count": 29,
     "metadata": {},
     "output_type": "execute_result"
    }
   ],
   "source": [
    "## Clear() remove all items\n",
    "## del function delete dictionary itself\n",
    "fruits={1:\"Apple\",2:\"Mango\",3:\"Orange\",4:\"Grapes\",5:\"Banana\"}\n",
    "fruits"
   ]
  },
  {
   "cell_type": "code",
   "execution_count": 30,
   "id": "c87ce03a",
   "metadata": {},
   "outputs": [
    {
     "name": "stdout",
     "output_type": "stream",
     "text": [
      "Mango\n"
     ]
    }
   ],
   "source": [
    "print(fruits.pop(2)) ## Remove a particular item,return its value"
   ]
  },
  {
   "cell_type": "code",
   "execution_count": 31,
   "id": "9e16c14a",
   "metadata": {},
   "outputs": [
    {
     "data": {
      "text/plain": [
       "{1: 'Apple', 3: 'Orange', 4: 'Grapes', 5: 'Banana'}"
      ]
     },
     "execution_count": 31,
     "metadata": {},
     "output_type": "execute_result"
    }
   ],
   "source": [
    "fruits"
   ]
  },
  {
   "cell_type": "code",
   "execution_count": 35,
   "id": "a708e202",
   "metadata": {},
   "outputs": [
    {
     "data": {
      "text/plain": [
       "{}"
      ]
     },
     "execution_count": 35,
     "metadata": {},
     "output_type": "execute_result"
    }
   ],
   "source": [
    "fruits.clear() ## removed all items\n",
    "fruits"
   ]
  },
  {
   "cell_type": "code",
   "execution_count": 36,
   "id": "9f5abbfc",
   "metadata": {},
   "outputs": [],
   "source": [
    "del fruits ##Delete the fruit dictionary itself"
   ]
  },
  {
   "cell_type": "code",
   "execution_count": 37,
   "id": "170e88c7",
   "metadata": {},
   "outputs": [
    {
     "ename": "NameError",
     "evalue": "name 'fruits' is not defined",
     "output_type": "error",
     "traceback": [
      "\u001b[0;31m---------------------------------------------------------------------------\u001b[0m",
      "\u001b[0;31mNameError\u001b[0m                                 Traceback (most recent call last)",
      "\u001b[0;32m/tmp/ipykernel_17358/3218214917.py\u001b[0m in \u001b[0;36m<module>\u001b[0;34m\u001b[0m\n\u001b[0;32m----> 1\u001b[0;31m \u001b[0mfruits\u001b[0m\u001b[0;34m\u001b[0m\u001b[0;34m\u001b[0m\u001b[0m\n\u001b[0m",
      "\u001b[0;31mNameError\u001b[0m: name 'fruits' is not defined"
     ]
    }
   ],
   "source": [
    "fruits ## Throws Error because we deleted fruits dictionary\n"
   ]
  },
  {
   "cell_type": "code",
   "execution_count": 39,
   "id": "2c632a64",
   "metadata": {},
   "outputs": [
    {
     "data": {
      "text/plain": [
       "{1: 'Maha', 2: 'Vino', 3: 'Amsa', 4: 'Parry', 5: 'Velu'}"
      ]
     },
     "execution_count": 39,
     "metadata": {},
     "output_type": "execute_result"
    }
   ],
   "source": [
    "names={1:\"Maha\",2:\"Vino\",3:\"Amsa\",4:\"Parry\",5:\"Velu\"}\n",
    "names"
   ]
  },
  {
   "cell_type": "code",
   "execution_count": 46,
   "id": "7a0a2d76",
   "metadata": {},
   "outputs": [],
   "source": [
    "del names[2] ## delete the (2)Key"
   ]
  },
  {
   "cell_type": "code",
   "execution_count": 47,
   "id": "881412ed",
   "metadata": {},
   "outputs": [
    {
     "data": {
      "text/plain": [
       "{1: 'Maha', 3: 'Amsa', 4: 'Parry', 5: 'Velu'}"
      ]
     },
     "execution_count": 47,
     "metadata": {},
     "output_type": "execute_result"
    }
   ],
   "source": [
    "names\n"
   ]
  },
  {
   "cell_type": "code",
   "execution_count": 48,
   "id": "cfb2b4a0",
   "metadata": {},
   "outputs": [
    {
     "data": {
      "text/plain": [
       "4"
      ]
     },
     "execution_count": 48,
     "metadata": {},
     "output_type": "execute_result"
    }
   ],
   "source": [
    "len(names) ## Gives the total length of the dictionary"
   ]
  },
  {
   "cell_type": "code",
   "execution_count": null,
   "id": "10b77b48",
   "metadata": {},
   "outputs": [],
   "source": []
  }
 ],
 "metadata": {
  "kernelspec": {
   "display_name": "Python 3 (ipykernel)",
   "language": "python",
   "name": "python3"
  },
  "language_info": {
   "codemirror_mode": {
    "name": "ipython",
    "version": 3
   },
   "file_extension": ".py",
   "mimetype": "text/x-python",
   "name": "python",
   "nbconvert_exporter": "python",
   "pygments_lexer": "ipython3",
   "version": "3.9.7"
  }
 },
 "nbformat": 4,
 "nbformat_minor": 5
}
