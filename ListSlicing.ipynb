{
 "cells": [
  {
   "cell_type": "code",
   "execution_count": 2,
   "id": "fb197102",
   "metadata": {},
   "outputs": [],
   "source": [
    "##List slicing used to access a range of items in a list with the help of slicing operator :\n",
    "##syntax List[Start:End:step]  step means increment , List[included:notIncluded]"
   ]
  },
  {
   "cell_type": "code",
   "execution_count": 7,
   "id": "9e2bea37",
   "metadata": {},
   "outputs": [],
   "source": [
    "L=['A','B','C','D','E','F','G','H']\n"
   ]
  },
  {
   "cell_type": "code",
   "execution_count": 8,
   "id": "096d143a",
   "metadata": {},
   "outputs": [
    {
     "name": "stdout",
     "output_type": "stream",
     "text": [
      "['C', 'D', 'E', 'F']\n"
     ]
    }
   ],
   "source": [
    "print(L[2:6])"
   ]
  },
  {
   "cell_type": "code",
   "execution_count": 10,
   "id": "0c34b8f7",
   "metadata": {},
   "outputs": [
    {
     "name": "stdout",
     "output_type": "stream",
     "text": [
      "['C', 'D', 'E', 'F']\n"
     ]
    }
   ],
   "source": [
    "## with negative indices\n",
    "print(L[-6:-2])"
   ]
  },
  {
   "cell_type": "code",
   "execution_count": 12,
   "id": "32359dbb",
   "metadata": {},
   "outputs": [
    {
     "name": "stdout",
     "output_type": "stream",
     "text": [
      "['B', 'C', 'D', 'E', 'F', 'G']\n"
     ]
    }
   ],
   "source": [
    "print(L[-7:-1])"
   ]
  },
  {
   "cell_type": "code",
   "execution_count": 13,
   "id": "7dd4b9f3",
   "metadata": {},
   "outputs": [
    {
     "name": "stdout",
     "output_type": "stream",
     "text": [
      "['A', 'B', 'C', 'D', 'E', 'F', 'G']\n"
     ]
    }
   ],
   "source": [
    "## slice with positive and negative indices\n",
    "print(L[0:-1])"
   ]
  },
  {
   "cell_type": "code",
   "execution_count": 16,
   "id": "4895bea1",
   "metadata": {},
   "outputs": [
    {
     "name": "stdout",
     "output_type": "stream",
     "text": [
      "['A', 'C', 'E', 'G']\n"
     ]
    }
   ],
   "source": [
    "##Specify  step of the slicing\n",
    "print(L[0:7:2])##Return every 2nd item between the position"
   ]
  },
  {
   "cell_type": "code",
   "execution_count": 17,
   "id": "dbf2eacc",
   "metadata": {},
   "outputs": [
    {
     "name": "stdout",
     "output_type": "stream",
     "text": [
      "['G', 'E', 'C']\n"
     ]
    }
   ],
   "source": [
    "##Negative step size\n",
    "print(L[6:1:-2])"
   ]
  },
  {
   "cell_type": "code",
   "execution_count": 19,
   "id": "d94a287a",
   "metadata": {},
   "outputs": [
    {
     "data": {
      "text/plain": [
       "['A', 'B', 'C', 'D', 'E', 'F', 'G', 'H']"
      ]
     },
     "execution_count": 19,
     "metadata": {},
     "output_type": "execute_result"
    }
   ],
   "source": [
    "##Slice at beginning & end\n",
    "L"
   ]
  },
  {
   "cell_type": "code",
   "execution_count": 20,
   "id": "63d53fea",
   "metadata": {},
   "outputs": [
    {
     "name": "stdout",
     "output_type": "stream",
     "text": [
      "['C', 'D', 'E', 'F', 'G', 'H']\n"
     ]
    }
   ],
   "source": [
    "print(L[2:])"
   ]
  },
  {
   "cell_type": "code",
   "execution_count": 21,
   "id": "d56df838",
   "metadata": {},
   "outputs": [
    {
     "name": "stdout",
     "output_type": "stream",
     "text": [
      "['A', 'B', 'C', 'D', 'E', 'F', 'G']\n"
     ]
    }
   ],
   "source": [
    "print(L[:7])"
   ]
  },
  {
   "cell_type": "code",
   "execution_count": 22,
   "id": "b4f6ccfd",
   "metadata": {},
   "outputs": [
    {
     "name": "stdout",
     "output_type": "stream",
     "text": [
      "['H', 'G', 'F', 'E', 'D', 'C', 'B', 'A']\n"
     ]
    }
   ],
   "source": [
    "##Reverse a List\n",
    "print(L[::-1])"
   ]
  },
  {
   "cell_type": "code",
   "execution_count": 23,
   "id": "17eaac22",
   "metadata": {},
   "outputs": [
    {
     "data": {
      "text/plain": [
       "['A', 'B', 'C', 'D', 'E', 'F', 'G', 'H']"
      ]
     },
     "execution_count": 23,
     "metadata": {},
     "output_type": "execute_result"
    }
   ],
   "source": [
    "###Modify Multiple List Values\n",
    "L"
   ]
  },
  {
   "cell_type": "code",
   "execution_count": 27,
   "id": "b797ce10",
   "metadata": {},
   "outputs": [
    {
     "name": "stdout",
     "output_type": "stream",
     "text": [
      "['A', 1, 2, 3, 'G', 'H']\n"
     ]
    }
   ],
   "source": [
    "L[1:4]=[1,2,3]\n",
    "print(L)"
   ]
  },
  {
   "cell_type": "code",
   "execution_count": 29,
   "id": "f9efd5b4",
   "metadata": {},
   "outputs": [
    {
     "name": "stdout",
     "output_type": "stream",
     "text": [
      "['A', 1, 2, 3, 2, 3, 2, 3, 'G', 'H']\n"
     ]
    }
   ],
   "source": [
    "L[1:2]=[1,2,3]\n",
    "print(L)"
   ]
  },
  {
   "cell_type": "code",
   "execution_count": 30,
   "id": "1d66cb3f",
   "metadata": {},
   "outputs": [],
   "source": [
    "L=['A','B','C','D','E','F','G','H']\n",
    "##insert multiple  list items"
   ]
  },
  {
   "cell_type": "code",
   "execution_count": 31,
   "id": "846958db",
   "metadata": {},
   "outputs": [
    {
     "name": "stdout",
     "output_type": "stream",
     "text": [
      "[1, 2, 3, 'A', 'B', 'C', 'D', 'E', 'F', 'G', 'H']\n"
     ]
    }
   ],
   "source": [
    "L[:0]=[1,2,3]\n",
    "print(L)"
   ]
  },
  {
   "cell_type": "code",
   "execution_count": 37,
   "id": "ac556385",
   "metadata": {},
   "outputs": [],
   "source": [
    "L=['A','B','C','D','E','F','G','H']"
   ]
  },
  {
   "cell_type": "code",
   "execution_count": 38,
   "id": "ef6a3e3d",
   "metadata": {},
   "outputs": [
    {
     "name": "stdout",
     "output_type": "stream",
     "text": [
      "['A', 'B', 'C', 'D', 'E', 'F', 'G', 'H', 3, 4, 5]\n"
     ]
    }
   ],
   "source": [
    "L[len(L):]=[3,4,5]\n",
    "print(L)"
   ]
  },
  {
   "cell_type": "code",
   "execution_count": 39,
   "id": "d91d677f",
   "metadata": {},
   "outputs": [
    {
     "data": {
      "text/plain": [
       "['A', 'B', 'C', 'D', 'E', 'F', 'G', 'H', 3, 4, 5]"
      ]
     },
     "execution_count": 39,
     "metadata": {},
     "output_type": "execute_result"
    }
   ],
   "source": [
    "### Delete multiple list items\n",
    "L"
   ]
  },
  {
   "cell_type": "code",
   "execution_count": 40,
   "id": "2b258ccc",
   "metadata": {},
   "outputs": [
    {
     "name": "stdout",
     "output_type": "stream",
     "text": [
      "['A', 'D', 'E', 'F', 'G', 'H', 3, 4, 5]\n"
     ]
    }
   ],
   "source": [
    "L[1:3]=[]\n",
    "print(L)"
   ]
  },
  {
   "cell_type": "code",
   "execution_count": 41,
   "id": "ca7a917d",
   "metadata": {},
   "outputs": [
    {
     "name": "stdout",
     "output_type": "stream",
     "text": [
      "['A', 'F', 'G', 'H', 3, 4, 5]\n"
     ]
    }
   ],
   "source": [
    "##OR\n",
    "del L[1:3]\n",
    "print(L)\n"
   ]
  },
  {
   "cell_type": "code",
   "execution_count": 42,
   "id": "d9a706de",
   "metadata": {},
   "outputs": [
    {
     "data": {
      "text/plain": [
       "['A', 'F', 'G', 'H', 3, 4, 5]"
      ]
     },
     "execution_count": 42,
     "metadata": {},
     "output_type": "execute_result"
    }
   ],
   "source": [
    "###clone or copy a list\n",
    "L"
   ]
  },
  {
   "cell_type": "code",
   "execution_count": 43,
   "id": "9c14e516",
   "metadata": {},
   "outputs": [
    {
     "name": "stdout",
     "output_type": "stream",
     "text": [
      "['A', 'F', 'G', 'H', 3, 4, 5]\n"
     ]
    }
   ],
   "source": [
    "L1=L[:]\n",
    "print(L1)"
   ]
  },
  {
   "cell_type": "code",
   "execution_count": null,
   "id": "2dbd9a55",
   "metadata": {},
   "outputs": [],
   "source": []
  }
 ],
 "metadata": {
  "kernelspec": {
   "display_name": "Python 3 (ipykernel)",
   "language": "python",
   "name": "python3"
  },
  "language_info": {
   "codemirror_mode": {
    "name": "ipython",
    "version": 3
   },
   "file_extension": ".py",
   "mimetype": "text/x-python",
   "name": "python",
   "nbconvert_exporter": "python",
   "pygments_lexer": "ipython3",
   "version": "3.9.7"
  }
 },
 "nbformat": 4,
 "nbformat_minor": 5
}
