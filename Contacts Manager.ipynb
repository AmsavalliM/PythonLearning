{
 "cells": [
  {
   "cell_type": "code",
   "execution_count": 1,
   "id": "f6a56147",
   "metadata": {},
   "outputs": [],
   "source": [
    "users=[]"
   ]
  },
  {
   "cell_type": "code",
   "execution_count": 10,
   "id": "ac8cc899",
   "metadata": {},
   "outputs": [
    {
     "name": "stdout",
     "output_type": "stream",
     "text": [
      "First Name: Bhavani\n",
      "Last Name:  K\n",
      "company : sdsa\n",
      "Enter phoneno:  7689076543\n",
      "Do you want to add another no: Yes or No:No\n",
      "Enter mail id: Bhu@gmail.com\n"
     ]
    },
    {
     "data": {
      "text/plain": [
       "[{'firstname': 'Shiva',\n",
       "  'lastname': 'K',\n",
       "  'phoneno': '8976567894',\n",
       "  ' mailid': 'shiva@gmail.com'},\n",
       " {'firstname': 'Amsa',\n",
       "  'lastname': 'T',\n",
       "  'phoneno': '9876890564',\n",
       "  ' mailid': 'amsa@ymail.com'},\n",
       " {'firstname': 'Parry',\n",
       "  'lastname': 'M',\n",
       "  'phoneno': '7865434567',\n",
       "  ' mailid': 'ParryM@gmail.com'},\n",
       " {'firstname': 'Anbu',\n",
       "  'lastname': 'P',\n",
       "  'phoneno': '8765456785',\n",
       "  ' mailid': 'anb@gmail.com'},\n",
       " {'firstname': 'Bhavani',\n",
       "  'lastname': 'K',\n",
       "  'phoneno': '7689076543',\n",
       "  ' mailid': 'Bhu@gmail.com'}]"
      ]
     },
     "execution_count": 10,
     "metadata": {},
     "output_type": "execute_result"
    }
   ],
   "source": [
    "\n",
    "    firstname=input(\"First Name: \")\n",
    "    lastname=input(\"Last Name:  \")\n",
    "    company=input(\"company : \")\n",
    "    phonenos=[]\n",
    "    phoneno=input(\"Enter phoneno:  \")\n",
    "    phonenos.append(phoneno)\n",
    "   \n",
    "    s='Yes'\n",
    "    \n",
    "    while s=='Yes':\n",
    "        addphoneno=input(\"Do you want to add another no: Yes or No:\")\n",
    "        if addphoneno=='Yes':\n",
    "            phoneno=input(\"Enter phoneno:  \")\n",
    "            phonenos.append(phoneno)\n",
    "        else:\n",
    "            break\n",
    "    mailid=input(\"Enter mail id: \")\n",
    "    \n",
    "    user={\n",
    "        'firstname':firstname,\n",
    "        'lastname': lastname,\n",
    "        'phoneno':phoneno,\n",
    "       ' mailid':mailid,\n",
    "    }\n",
    "   \n",
    "    users.append(user)   \n",
    "    \n",
    "    users\n",
    "            \n",
    "\n",
    "\n"
   ]
  },
  {
   "cell_type": "code",
   "execution_count": 11,
   "id": "f629ecdf",
   "metadata": {},
   "outputs": [
    {
     "data": {
      "text/plain": [
       "[{'firstname': 'Amsa',\n",
       "  'lastname': 'T',\n",
       "  'phoneno': '9876890564',\n",
       "  ' mailid': 'amsa@ymail.com'},\n",
       " {'firstname': 'Anbu',\n",
       "  'lastname': 'P',\n",
       "  'phoneno': '8765456785',\n",
       "  ' mailid': 'anb@gmail.com'},\n",
       " {'firstname': 'Bhavani',\n",
       "  'lastname': 'K',\n",
       "  'phoneno': '7689076543',\n",
       "  ' mailid': 'Bhu@gmail.com'},\n",
       " {'firstname': 'Parry',\n",
       "  'lastname': 'M',\n",
       "  'phoneno': '7865434567',\n",
       "  ' mailid': 'ParryM@gmail.com'},\n",
       " {'firstname': 'Shiva',\n",
       "  'lastname': 'K',\n",
       "  'phoneno': '8976567894',\n",
       "  ' mailid': 'shiva@gmail.com'}]"
      ]
     },
     "execution_count": 11,
     "metadata": {},
     "output_type": "execute_result"
    }
   ],
   "source": [
    "sorteditems=(sorted(users, key = lambda i: i['firstname']))\n",
    "sorteditems"
   ]
  },
  {
   "cell_type": "code",
   "execution_count": 12,
   "id": "d72beb5b",
   "metadata": {},
   "outputs": [
    {
     "name": "stdout",
     "output_type": "stream",
     "text": [
      "A\n",
      "Amsa\n",
      "Anbu\n",
      "B\n",
      "Bhavani\n",
      "P\n",
      "Parry\n",
      "S\n",
      "Shiva\n"
     ]
    }
   ],
   "source": [
    "tempchar=''\n",
    "for contact in sorteditems:\n",
    "    if tempchar==contact['firstname'][0]:\n",
    "        print(contact['firstname'])\n",
    "    else:   \n",
    "        print(contact['firstname'][0])\n",
    "        print(contact['firstname'])\n",
    "        tempchar=contact['firstname'][0]\n",
    "        "
   ]
  },
  {
   "cell_type": "code",
   "execution_count": null,
   "id": "bce956cf",
   "metadata": {},
   "outputs": [],
   "source": []
  },
  {
   "cell_type": "code",
   "execution_count": null,
   "id": "ab20c950",
   "metadata": {},
   "outputs": [],
   "source": []
  }
 ],
 "metadata": {
  "kernelspec": {
   "display_name": "Python 3 (ipykernel)",
   "language": "python",
   "name": "python3"
  },
  "language_info": {
   "codemirror_mode": {
    "name": "ipython",
    "version": 3
   },
   "file_extension": ".py",
   "mimetype": "text/x-python",
   "name": "python",
   "nbconvert_exporter": "python",
   "pygments_lexer": "ipython3",
   "version": "3.9.7"
  }
 },
 "nbformat": 4,
 "nbformat_minor": 5
}
