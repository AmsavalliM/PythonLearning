{
 "cells": [
  {
   "cell_type": "code",
   "execution_count": 1,
   "id": "d437656f",
   "metadata": {},
   "outputs": [],
   "source": [
    "##Lambda function can take only one Function but any number of arguments.\n",
    "## Syntax lambda arguments : expression"
   ]
  },
  {
   "cell_type": "code",
   "execution_count": 3,
   "id": "e21dc178",
   "metadata": {},
   "outputs": [
    {
     "data": {
      "text/plain": [
       "9"
      ]
     },
     "execution_count": 3,
     "metadata": {},
     "output_type": "execute_result"
    }
   ],
   "source": [
    "add=lambda x,y,z:x+y+z\n",
    "add(2,3,4)"
   ]
  },
  {
   "cell_type": "code",
   "execution_count": 8,
   "id": "0c6414d4",
   "metadata": {},
   "outputs": [
    {
     "data": {
      "text/plain": [
       "[3, 6, 9, 12, 15]"
      ]
     },
     "execution_count": 8,
     "metadata": {},
     "output_type": "execute_result"
    }
   ],
   "source": [
    "###lambda x: x*3, and use it with the map function to triple all elements in a list:\n",
    "list1=[1,2,3,4,5]\n",
    "newlist=list(map(lambda x:x*3,list1))\n",
    "newlist"
   ]
  },
  {
   "cell_type": "code",
   "execution_count": 10,
   "id": "0c2038e6",
   "metadata": {},
   "outputs": [
    {
     "data": {
      "text/plain": [
       "[30, 34, 40]"
      ]
     },
     "execution_count": 10,
     "metadata": {},
     "output_type": "execute_result"
    }
   ],
   "source": [
    "### Lambda with filter function\n",
    "age=[22,30,34,29,40]\n",
    "adult=list(filter(lambda x:x>=30,age))\n",
    "adult\n",
    "\n"
   ]
  },
  {
   "cell_type": "code",
   "execution_count": 11,
   "id": "32ee7b95",
   "metadata": {},
   "outputs": [
    {
     "name": "stdout",
     "output_type": "stream",
     "text": [
      "Welcome: Parry\n"
     ]
    }
   ],
   "source": [
    "message=lambda name: print('Welcome:',name)\n",
    "message('Parry')"
   ]
  },
  {
   "cell_type": "code",
   "execution_count": 13,
   "id": "ae62cb8c",
   "metadata": {},
   "outputs": [
    {
     "data": {
      "text/plain": [
       "14"
      ]
     },
     "execution_count": 13,
     "metadata": {},
     "output_type": "execute_result"
    }
   ],
   "source": [
    "###The following lambda function can take any number of parameters\n",
    "add=lambda *x :x[0]+x[1]+x[2]+x[3]*x[4]\n",
    "add(2,3,4,1,5)"
   ]
  },
  {
   "cell_type": "code",
   "execution_count": null,
   "id": "c6839d5d",
   "metadata": {},
   "outputs": [],
   "source": []
  },
  {
   "cell_type": "code",
   "execution_count": null,
   "id": "c24bb057",
   "metadata": {},
   "outputs": [],
   "source": []
  }
 ],
 "metadata": {
  "kernelspec": {
   "display_name": "Python 3 (ipykernel)",
   "language": "python",
   "name": "python3"
  },
  "language_info": {
   "codemirror_mode": {
    "name": "ipython",
    "version": 3
   },
   "file_extension": ".py",
   "mimetype": "text/x-python",
   "name": "python",
   "nbconvert_exporter": "python",
   "pygments_lexer": "ipython3",
   "version": "3.9.7"
  }
 },
 "nbformat": 4,
 "nbformat_minor": 5
}
