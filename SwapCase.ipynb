{
 "cells": [
  {
   "cell_type": "code",
   "execution_count": 7,
   "id": "f8435606",
   "metadata": {},
   "outputs": [
    {
     "name": "stdout",
     "output_type": "stream",
     "text": [
      "Enter Your string to swap: This Is SWappIng\n",
      "tHIS iS swAPPiNG\n"
     ]
    }
   ],
   "source": [
    "s=input(\"Enter Your string to swap: \")\n",
    "new_str=\"\"\n",
    "for i in range(len(s)):\n",
    "    if s[i].isupper():\n",
    "        new_str+=s[i].lower()\n",
    "    elif s[i].islower():\n",
    "            new_str+=s[i].upper()\n",
    "    else:\n",
    "        new_str+=s[i]\n",
    "print(new_str)\n"
   ]
  },
  {
   "cell_type": "markdown",
   "id": "311871dd",
   "metadata": {},
   "source": [
    "## Another Method"
   ]
  },
  {
   "cell_type": "code",
   "execution_count": 8,
   "id": "9e21886a",
   "metadata": {},
   "outputs": [
    {
     "name": "stdout",
     "output_type": "stream",
     "text": [
      "This iS sWappiG\n"
     ]
    }
   ],
   "source": [
    "X=\"tHIS Is SwAPPIg\"\n",
    "print(X.swapcase())"
   ]
  },
  {
   "cell_type": "code",
   "execution_count": null,
   "id": "4a966522",
   "metadata": {},
   "outputs": [],
   "source": []
  }
 ],
 "metadata": {
  "kernelspec": {
   "display_name": "Python 3 (ipykernel)",
   "language": "python",
   "name": "python3"
  },
  "language_info": {
   "codemirror_mode": {
    "name": "ipython",
    "version": 3
   },
   "file_extension": ".py",
   "mimetype": "text/x-python",
   "name": "python",
   "nbconvert_exporter": "python",
   "pygments_lexer": "ipython3",
   "version": "3.9.7"
  }
 },
 "nbformat": 4,
 "nbformat_minor": 5
}
