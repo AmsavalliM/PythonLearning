{
 "cells": [
  {
   "cell_type": "code",
   "execution_count": null,
   "id": "d8ecea53",
   "metadata": {},
   "outputs": [],
   "source": [
    "##Multiplication table for a given number\n",
    "n=int(input(\"Enter the number: \"))\n",
    "print(\"Multiplication table of: \",n)\n",
    "for s in range(1,11):\n",
    "    print(num,\"X\",i,'=',n*s)"
   ]
  },
  {
   "cell_type": "code",
   "execution_count": null,
   "id": "1da7152b",
   "metadata": {},
   "outputs": [],
   "source": []
  }
 ],
 "metadata": {
  "kernelspec": {
   "display_name": "Python 3 (ipykernel)",
   "language": "python",
   "name": "python3"
  },
  "language_info": {
   "codemirror_mode": {
    "name": "ipython",
    "version": 3
   },
   "file_extension": ".py",
   "mimetype": "text/x-python",
   "name": "python",
   "nbconvert_exporter": "python",
   "pygments_lexer": "ipython3",
   "version": "3.9.7"
  }
 },
 "nbformat": 4,
 "nbformat_minor": 5
}
