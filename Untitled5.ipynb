{
 "cells": [
  {
   "cell_type": "markdown",
   "id": "01e266df",
   "metadata": {},
   "source": [
    "## Regex Function \n",
    "\n",
    "Python has module name re to work with RegEx"
   ]
  },
  {
   "cell_type": "code",
   "execution_count": 2,
   "id": "edb5728e",
   "metadata": {},
   "outputs": [],
   "source": [
    "import re"
   ]
  },
  {
   "cell_type": "code",
   "execution_count": 3,
   "id": "b3cf9e7a",
   "metadata": {},
   "outputs": [],
   "source": [
    "sentence='''A RegEx, or Regular Expression, is a series of identy that forms a search pattern.\n",
    "RegEx can be used to check if a string contains the specified search pattern.'''"
   ]
  },
  {
   "cell_type": "code",
   "execution_count": 4,
   "id": "597ffa31",
   "metadata": {},
   "outputs": [
    {
     "data": {
      "text/plain": [
       "['RegEx', 'RegEx']"
      ]
     },
     "execution_count": 4,
     "metadata": {},
     "output_type": "execute_result"
    }
   ],
   "source": [
    "## Find Matching Word.In this sentence we can find RegEx two times.\n",
    "re.findall('RegEx',sentence)"
   ]
  },
  {
   "cell_type": "code",
   "execution_count": 5,
   "id": "036b75c0",
   "metadata": {},
   "outputs": [
    {
     "data": {
      "text/plain": [
       "12"
      ]
     },
     "execution_count": 5,
     "metadata": {},
     "output_type": "execute_result"
    }
   ],
   "source": [
    "## Search a position\n",
    "position=re.search('Regular',sentence)\n",
    "position.start()"
   ]
  },
  {
   "cell_type": "code",
   "execution_count": null,
   "id": "22db728d",
   "metadata": {},
   "outputs": [],
   "source": []
  }
 ],
 "metadata": {
  "kernelspec": {
   "display_name": "Python 3 (ipykernel)",
   "language": "python",
   "name": "python3"
  },
  "language_info": {
   "codemirror_mode": {
    "name": "ipython",
    "version": 3
   },
   "file_extension": ".py",
   "mimetype": "text/x-python",
   "name": "python",
   "nbconvert_exporter": "python",
   "pygments_lexer": "ipython3",
   "version": "3.9.7"
  }
 },
 "nbformat": 4,
 "nbformat_minor": 5
}
