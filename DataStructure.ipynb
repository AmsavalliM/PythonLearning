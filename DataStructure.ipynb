{
 "cells": [
  {
   "cell_type": "code",
   "execution_count": null,
   "id": "44fda760",
   "metadata": {},
   "outputs": [],
   "source": [
    "## DataStructures 1.Lists [used to store  different types of data in a Sequential manner.Idex is the address assigned\n",
    "## to every element of the list.The index value start fron 0 and goes on until last element of the list.]"
   ]
  },
  {
   "cell_type": "code",
   "execution_count": 35,
   "id": "d63557c8",
   "metadata": {},
   "outputs": [
    {
     "name": "stdout",
     "output_type": "stream",
     "text": [
      "[]\n",
      "[1, 2, 3, 'numbers', 4, 5, 6]\n"
     ]
    }
   ],
   "source": [
    "## Creating list\n",
    "list1=[]##creating empty list\n",
    "print(list1)\n",
    "list2=[1,2,3,'numbers',4,5,6]\n",
    "print(list2)"
   ]
  },
  {
   "cell_type": "code",
   "execution_count": 4,
   "id": "78e9343d",
   "metadata": {},
   "outputs": [
    {
     "data": {
      "text/plain": [
       "1"
      ]
     },
     "execution_count": 4,
     "metadata": {},
     "output_type": "execute_result"
    }
   ],
   "source": [
    "list2.index(2)"
   ]
  },
  {
   "cell_type": "code",
   "execution_count": 5,
   "id": "ef64c78f",
   "metadata": {},
   "outputs": [],
   "source": [
    "##Adding element to the list\n",
    "list1.append(7)"
   ]
  },
  {
   "cell_type": "code",
   "execution_count": 6,
   "id": "fb767534",
   "metadata": {},
   "outputs": [
    {
     "data": {
      "text/plain": [
       "[7]"
      ]
     },
     "execution_count": 6,
     "metadata": {},
     "output_type": "execute_result"
    }
   ],
   "source": [
    "list1\n"
   ]
  },
  {
   "cell_type": "code",
   "execution_count": 12,
   "id": "f1eabba1",
   "metadata": {},
   "outputs": [],
   "source": [
    "list1.insert(2,3) \n",
    "##insert item  to a specified index I run two times"
   ]
  },
  {
   "cell_type": "code",
   "execution_count": 13,
   "id": "67e0e2f0",
   "metadata": {},
   "outputs": [],
   "source": [
    "list1.insert(1,5)"
   ]
  },
  {
   "cell_type": "markdown",
   "id": "950bed6e",
   "metadata": {},
   "source": [
    "list1"
   ]
  },
  {
   "cell_type": "code",
   "execution_count": 14,
   "id": "2aebe6f6",
   "metadata": {},
   "outputs": [
    {
     "data": {
      "text/plain": [
       "[7, 5, 5, 3, 3]"
      ]
     },
     "execution_count": 14,
     "metadata": {},
     "output_type": "execute_result"
    }
   ],
   "source": [
    "list1"
   ]
  },
  {
   "cell_type": "code",
   "execution_count": 16,
   "id": "0b610a57",
   "metadata": {},
   "outputs": [],
   "source": [
    "list1.append([5,'H'])##add as a single element"
   ]
  },
  {
   "cell_type": "code",
   "execution_count": 17,
   "id": "6294748d",
   "metadata": {},
   "outputs": [
    {
     "data": {
      "text/plain": [
       "[7, 5, 5, 3, 3, [5, 'H']]"
      ]
     },
     "execution_count": 17,
     "metadata": {},
     "output_type": "execute_result"
    }
   ],
   "source": [
    "list1"
   ]
  },
  {
   "cell_type": "code",
   "execution_count": 19,
   "id": "5f3eec3d",
   "metadata": {},
   "outputs": [],
   "source": [
    "list1.extend(['Hello',100])"
   ]
  },
  {
   "cell_type": "code",
   "execution_count": 20,
   "id": "002652e9",
   "metadata": {},
   "outputs": [
    {
     "data": {
      "text/plain": [
       "[7, 5, 5, 3, 3, [5, 'H'], 'Hello', 100]"
      ]
     },
     "execution_count": 20,
     "metadata": {},
     "output_type": "execute_result"
    }
   ],
   "source": [
    "list1"
   ]
  },
  {
   "cell_type": "code",
   "execution_count": 21,
   "id": "903596c9",
   "metadata": {},
   "outputs": [],
   "source": [
    "##Deleting Element\n",
    "list1.remove(3)##Remove a specified value"
   ]
  },
  {
   "cell_type": "code",
   "execution_count": 22,
   "id": "dd9871aa",
   "metadata": {},
   "outputs": [
    {
     "data": {
      "text/plain": [
       "[7, 5, 5, 3, [5, 'H'], 'Hello', 100]"
      ]
     },
     "execution_count": 22,
     "metadata": {},
     "output_type": "execute_result"
    }
   ],
   "source": [
    "list1"
   ]
  },
  {
   "cell_type": "code",
   "execution_count": 24,
   "id": "1afab9df",
   "metadata": {},
   "outputs": [],
   "source": [
    "del list1[2] #delete with index value"
   ]
  },
  {
   "cell_type": "code",
   "execution_count": 25,
   "id": "c2d43b2c",
   "metadata": {},
   "outputs": [
    {
     "data": {
      "text/plain": [
       "[7, 5, 3, [5, 'H'], 'Hello', 100]"
      ]
     },
     "execution_count": 25,
     "metadata": {},
     "output_type": "execute_result"
    }
   ],
   "source": [
    "list1"
   ]
  },
  {
   "cell_type": "code",
   "execution_count": 28,
   "id": "c309dce5",
   "metadata": {},
   "outputs": [
    {
     "data": {
      "text/plain": [
       "3"
      ]
     },
     "execution_count": 28,
     "metadata": {},
     "output_type": "execute_result"
    }
   ],
   "source": [
    "list1.pop(1)##Show pop out element"
   ]
  },
  {
   "cell_type": "code",
   "execution_count": 29,
   "id": "2cd32b28",
   "metadata": {},
   "outputs": [
    {
     "data": {
      "text/plain": [
       "[7, [5, 'H'], 'Hello', 100]"
      ]
     },
     "execution_count": 29,
     "metadata": {},
     "output_type": "execute_result"
    }
   ],
   "source": [
    "list1"
   ]
  },
  {
   "cell_type": "code",
   "execution_count": 30,
   "id": "16917f41",
   "metadata": {},
   "outputs": [],
   "source": [
    "list1.clear()#Cleared all elements"
   ]
  },
  {
   "cell_type": "code",
   "execution_count": 31,
   "id": "0a252e96",
   "metadata": {},
   "outputs": [
    {
     "data": {
      "text/plain": [
       "[]"
      ]
     },
     "execution_count": 31,
     "metadata": {},
     "output_type": "execute_result"
    }
   ],
   "source": [
    "list1"
   ]
  },
  {
   "cell_type": "code",
   "execution_count": 33,
   "id": "3453bf79",
   "metadata": {},
   "outputs": [
    {
     "name": "stdout",
     "output_type": "stream",
     "text": [
      "5\n",
      "6\n",
      "7\n",
      "8\n",
      "A\n",
      "B\n"
     ]
    }
   ],
   "source": [
    "list3=[5,6,7,8,'A','B']\n",
    "##Accessing Element \n",
    "for l in list3:\n",
    "    print(l)##Accessing element one by one\n"
   ]
  },
  {
   "cell_type": "code",
   "execution_count": 35,
   "id": "d890c603",
   "metadata": {},
   "outputs": [
    {
     "name": "stdout",
     "output_type": "stream",
     "text": [
      "[5, 6, 7, 8, 'A', 'B']\n"
     ]
    }
   ],
   "source": [
    "print(list3)##Accessing whole element"
   ]
  },
  {
   "cell_type": "code",
   "execution_count": 37,
   "id": "62352943",
   "metadata": {},
   "outputs": [
    {
     "name": "stdout",
     "output_type": "stream",
     "text": [
      "7\n"
     ]
    }
   ],
   "source": [
    "print(list3[2])## Accessing element by index"
   ]
  },
  {
   "cell_type": "code",
   "execution_count": 38,
   "id": "4941ccaf",
   "metadata": {},
   "outputs": [
    {
     "name": "stdout",
     "output_type": "stream",
     "text": [
      "[5, 6]\n"
     ]
    }
   ],
   "source": [
    "print(list3[0:2])##Accessing element 0 t0 1 and exclude2"
   ]
  },
  {
   "cell_type": "code",
   "execution_count": 39,
   "id": "5a618b41",
   "metadata": {},
   "outputs": [
    {
     "name": "stdout",
     "output_type": "stream",
     "text": [
      "['B', 'A', 8, 7, 6, 5]\n"
     ]
    }
   ],
   "source": [
    "print(list3[::-1])##Access element in reverse"
   ]
  },
  {
   "cell_type": "code",
   "execution_count": 1,
   "id": "d7b8d587",
   "metadata": {},
   "outputs": [
    {
     "data": {
      "text/plain": [
       "2"
      ]
     },
     "execution_count": 1,
     "metadata": {},
     "output_type": "execute_result"
    }
   ],
   "source": [
    "## other function of list\n",
    "list4=[1,7,8,9,9,'A','B','c']\n",
    "list4.count(9)"
   ]
  },
  {
   "cell_type": "code",
   "execution_count": 3,
   "id": "395fd325",
   "metadata": {},
   "outputs": [
    {
     "data": {
      "text/plain": [
       "1"
      ]
     },
     "execution_count": 3,
     "metadata": {},
     "output_type": "execute_result"
    }
   ],
   "source": [
    "list4.count(1)"
   ]
  },
  {
   "cell_type": "code",
   "execution_count": 5,
   "id": "7cdb2c4e",
   "metadata": {},
   "outputs": [
    {
     "data": {
      "text/plain": [
       "8"
      ]
     },
     "execution_count": 5,
     "metadata": {},
     "output_type": "execute_result"
    }
   ],
   "source": [
    "len(list4)\n"
   ]
  },
  {
   "cell_type": "code",
   "execution_count": 10,
   "id": "ef6833fa",
   "metadata": {},
   "outputs": [
    {
     "name": "stdout",
     "output_type": "stream",
     "text": [
      "[10, 10, 20, 30, 40]\n"
     ]
    }
   ],
   "source": [
    "list5=[10,40,10,20,30]\n",
    "print(sorted(list5))"
   ]
  },
  {
   "cell_type": "code",
   "execution_count": 11,
   "id": "a57afb3a",
   "metadata": {},
   "outputs": [
    {
     "name": "stdout",
     "output_type": "stream",
     "text": [
      "[40, 30, 20, 10, 10]\n"
     ]
    }
   ],
   "source": [
    "list5.sort(reverse=True)\n",
    "print(list5)"
   ]
  },
  {
   "cell_type": "code",
   "execution_count": null,
   "id": "9a39a347",
   "metadata": {},
   "outputs": [],
   "source": [
    "##Dictionary: Collection of information about one item.Dictionary are used to store key value pair.\n",
    "## Dictionaries can be created using {},We need to add the key-value pairs whenever you work with dictionaries."
   ]
  },
  {
   "cell_type": "code",
   "execution_count": 2,
   "id": "b9a7d828",
   "metadata": {},
   "outputs": [
    {
     "name": "stdout",
     "output_type": "stream",
     "text": [
      "{}\n"
     ]
    }
   ],
   "source": [
    "mydic={}\n",
    "print(mydic)"
   ]
  },
  {
   "cell_type": "code",
   "execution_count": 3,
   "id": "7ce9afff",
   "metadata": {},
   "outputs": [
    {
     "name": "stdout",
     "output_type": "stream",
     "text": [
      "{1: 'List', 2: 'Tuple', 3: 'Dictionary'}\n"
     ]
    }
   ],
   "source": [
    "mydic={1:'List',2:'Tuple',3:'Dictionary'}\n",
    "print(mydic)"
   ]
  },
  {
   "cell_type": "code",
   "execution_count": 7,
   "id": "633bb520",
   "metadata": {},
   "outputs": [
    {
     "name": "stdout",
     "output_type": "stream",
     "text": [
      "{1: 'List', 2: 'Zip', 3: 'Tuple', 4: 'Tuple'}\n",
      "{1: 'List', 2: 'Zip', 3: 'Tuple', 4: 'Tuple'}\n",
      "{1: 'List', 2: 'Zip', 3: 'Dictionary', 4: 'Tuple'}\n"
     ]
    }
   ],
   "source": [
    "mydic[2]='Zip'##changing element\n",
    "print(mydic)\n",
    "mydic[4]='Tuple'##Adding key value pair\n",
    "print(mydic)\n",
    "mydic[3]='Dictionary'\n",
    "print(mydic)"
   ]
  },
  {
   "cell_type": "code",
   "execution_count": 11,
   "id": "f3d23bac",
   "metadata": {},
   "outputs": [
    {
     "name": "stdout",
     "output_type": "stream",
     "text": [
      "{1: 'List', 2: 'Zip', 3: 'Dictionary', 4: 'Tuple'}\n",
      "dict_values(['List', 'Zip', 'Dictionary', 'Tuple'])\n",
      "dict_keys([1, 2, 3, 4])\n",
      "dict_items([(1, 'List'), (2, 'Zip'), (3, 'Dictionary'), (4, 'Tuple')])\n",
      "Zip\n"
     ]
    }
   ],
   "source": [
    "##Dictionary other function\n",
    "print(mydic)\n",
    "print(mydic.values())\n",
    "print(mydic.keys())\n",
    "print(mydic.items())\n",
    "print(mydic.get(2))"
   ]
  },
  {
   "cell_type": "code",
   "execution_count": 12,
   "id": "c2016cc2",
   "metadata": {},
   "outputs": [
    {
     "name": "stdout",
     "output_type": "stream",
     "text": [
      "(1, 2, 3, 'Hai', 'I am tuple')\n"
     ]
    }
   ],
   "source": [
    "##Tuples are the same as lists are with the exception that the data once entered into the tuple cannot be changed\n",
    "tup=(1,2,3,'Hai','I am tuple')\n",
    "print(tup)"
   ]
  },
  {
   "cell_type": "code",
   "execution_count": 14,
   "id": "18464eb4",
   "metadata": {},
   "outputs": [
    {
     "name": "stdout",
     "output_type": "stream",
     "text": [
      "1\n",
      "2\n",
      "3\n",
      "Hai\n",
      "I am tuple\n",
      "2\n",
      "(1, 2, 3, 'Hai', 'I am tuple')\n",
      "i\n"
     ]
    }
   ],
   "source": [
    "##Accessing element from tuple\n",
    "tup\n",
    "for t in tup:\n",
    "    print(t)\n",
    "print(tup[1])\n",
    "print(tup[:])\n",
    "print(tup[3][2])"
   ]
  },
  {
   "cell_type": "code",
   "execution_count": 15,
   "id": "d09c0f5f",
   "metadata": {},
   "outputs": [
    {
     "name": "stdout",
     "output_type": "stream",
     "text": [
      "(1, 2, 3, 'Hai', 'I am tuple', 'adding', 5)\n"
     ]
    }
   ],
   "source": [
    "##Adding Element\n",
    "tup=tup+('adding',5)\n",
    "print(tup)"
   ]
  },
  {
   "cell_type": "code",
   "execution_count": 29,
   "id": "c16a209a",
   "metadata": {},
   "outputs": [
    {
     "data": {
      "text/plain": [
       "(('Rose', 'Red'), ('Lotus', 'Pink'), ('jasmine', 'White'))"
      ]
     },
     "execution_count": 29,
     "metadata": {},
     "output_type": "execute_result"
    }
   ],
   "source": [
    "##Zip used to pair\n",
    "flower=('Rose','Lotus','jasmine')\n",
    "colour=('Red','Pink','White')\n",
    "pair=zip(flower,colour)\n",
    "tuple(pair)"
   ]
  },
  {
   "cell_type": "code",
   "execution_count": 30,
   "id": "5423c150",
   "metadata": {},
   "outputs": [
    {
     "name": "stdout",
     "output_type": "stream",
     "text": [
      "Rose is Red\n",
      "Lotus is Pink\n",
      "jasmine is White\n"
     ]
    }
   ],
   "source": [
    "for flower,colour in zip(flower,colour):\n",
    "    print(f'{flower} is {colour}')\n",
    "          \n"
   ]
  },
  {
   "cell_type": "code",
   "execution_count": 34,
   "id": "42c2dfff",
   "metadata": {},
   "outputs": [
    {
     "name": "stdout",
     "output_type": "stream",
     "text": [
      "Maha\n"
     ]
    }
   ],
   "source": [
    "###parallel processing multiple item\n",
    "name=('Ram','Manju','Maha')\n",
    "age=(17,18,19)\n",
    "grade=(\"A\",\"B\",\"A\")\n",
    "for name,age,grade in zip(name,age,grade):\n",
    "    if age>17 and grade=='A':\n",
    "        print(name)\n"
   ]
  },
  {
   "cell_type": "code",
   "execution_count": null,
   "id": "7c7f2f93",
   "metadata": {},
   "outputs": [],
   "source": []
  }
 ],
 "metadata": {
  "kernelspec": {
   "display_name": "Python 3 (ipykernel)",
   "language": "python",
   "name": "python3"
  },
  "language_info": {
   "codemirror_mode": {
    "name": "ipython",
    "version": 3
   },
   "file_extension": ".py",
   "mimetype": "text/x-python",
   "name": "python",
   "nbconvert_exporter": "python",
   "pygments_lexer": "ipython3",
   "version": "3.9.7"
  }
 },
 "nbformat": 4,
 "nbformat_minor": 5
}
